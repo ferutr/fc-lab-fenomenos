{
 "cells": [
  {
   "cell_type": "markdown",
   "id": "52726d2b-14e2-40e4-8dd7-a5eafc22aa42",
   "metadata": {},
   "source": [
    "<h1>\n",
    "    Equivalente Electrico del Calor\n",
    "</h1>"
   ]
  },
  {
   "cell_type": "code",
   "execution_count": 1,
   "id": "940807a3-ffa1-4816-8087-cb1e3a58a371",
   "metadata": {},
   "outputs": [],
   "source": [
    "import pandas as pd\n",
    "import matplotlib.pyplot as plt\n",
    "from pathlib import Path\n",
    "import numpy as np\n",
    "import seaborn as sns\n",
    "import os"
   ]
  },
  {
   "cell_type": "code",
   "execution_count": 2,
   "id": "2fddd840-f427-4f3f-9a83-c00b75c451fb",
   "metadata": {},
   "outputs": [],
   "source": [
    "os.environ['PATH'] += os.pathsep + r'C:\\Users\\futr_\\AppData\\Local\\Programs\\MiKTeX\\miktex\\bin\\x64\\latex.exe'"
   ]
  },
  {
   "cell_type": "code",
   "execution_count": 4,
   "id": "ef5ac77c-e8d8-49ff-b24d-122af53cff77",
   "metadata": {},
   "outputs": [],
   "source": [
    "base_dir = Path.cwd().parent  # Subir un nivel desde el notebook\n",
    "raw_dir = base_dir / \"data-lab\" / \"raw\"\n",
    "file = 'LFC-3_Equivalente electrico-calor.xlsx'"
   ]
  },
  {
   "cell_type": "code",
   "execution_count": 7,
   "id": "7855090a-a163-44e6-9fc9-96cbbbfa771c",
   "metadata": {},
   "outputs": [],
   "source": [
    "plt.rcParams.update({\n",
    "    \"text.usetex\": True,           # Activar LaTeX para textos\n",
    "    \"font.family\": \"serif\",        # Tipo de fuente serif\n",
    "    \"font.serif\": [\"Computer Modern Roman\"],  # Fuente estándar de LaTeX\n",
    "    \"font.size\": 12\n",
    "})"
   ]
  },
  {
   "cell_type": "code",
   "execution_count": 5,
   "id": "545d431c-473b-42c4-ae11-3104b22dfefd",
   "metadata": {},
   "outputs": [
    {
     "data": {
      "text/html": [
       "<div>\n",
       "<style scoped>\n",
       "    .dataframe tbody tr th:only-of-type {\n",
       "        vertical-align: middle;\n",
       "    }\n",
       "\n",
       "    .dataframe tbody tr th {\n",
       "        vertical-align: top;\n",
       "    }\n",
       "\n",
       "    .dataframe thead th {\n",
       "        text-align: right;\n",
       "    }\n",
       "</style>\n",
       "<table border=\"1\" class=\"dataframe\">\n",
       "  <thead>\n",
       "    <tr style=\"text-align: right;\">\n",
       "      <th></th>\n",
       "      <th>Dato</th>\n",
       "      <th>Valor</th>\n",
       "      <th>Unidad</th>\n",
       "    </tr>\n",
       "  </thead>\n",
       "  <tbody>\n",
       "    <tr>\n",
       "      <th>0</th>\n",
       "      <td>Masa Calorimetro_1</td>\n",
       "      <td>385.7</td>\n",
       "      <td>g</td>\n",
       "    </tr>\n",
       "    <tr>\n",
       "      <th>1</th>\n",
       "      <td>Masa Calorimetro_2</td>\n",
       "      <td>398.7</td>\n",
       "      <td>g</td>\n",
       "    </tr>\n",
       "    <tr>\n",
       "      <th>2</th>\n",
       "      <td>Masa Calorimetro_3</td>\n",
       "      <td>409.3</td>\n",
       "      <td>g</td>\n",
       "    </tr>\n",
       "    <tr>\n",
       "      <th>3</th>\n",
       "      <td>Masa Calorimetro + 150ml</td>\n",
       "      <td>531.2</td>\n",
       "      <td>g</td>\n",
       "    </tr>\n",
       "    <tr>\n",
       "      <th>4</th>\n",
       "      <td>Masa Calorimetro + 200ml</td>\n",
       "      <td>606.7</td>\n",
       "      <td>g</td>\n",
       "    </tr>\n",
       "    <tr>\n",
       "      <th>5</th>\n",
       "      <td>Masa Vaso 600ml</td>\n",
       "      <td>215</td>\n",
       "      <td>g</td>\n",
       "    </tr>\n",
       "    <tr>\n",
       "      <th>6</th>\n",
       "      <td>Masa Vaso 600ml + 150 ml</td>\n",
       "      <td>360.6</td>\n",
       "      <td>g</td>\n",
       "    </tr>\n",
       "    <tr>\n",
       "      <th>7</th>\n",
       "      <td>Masa Vaso 600ml + 200 ml</td>\n",
       "      <td>415.1</td>\n",
       "      <td>g</td>\n",
       "    </tr>\n",
       "    <tr>\n",
       "      <th>8</th>\n",
       "      <td>Temp Agua (calentada)</td>\n",
       "      <td>88.2</td>\n",
       "      <td>C</td>\n",
       "    </tr>\n",
       "    <tr>\n",
       "      <th>9</th>\n",
       "      <td>Temp Agua (ambiente)</td>\n",
       "      <td>19.8</td>\n",
       "      <td>C</td>\n",
       "    </tr>\n",
       "    <tr>\n",
       "      <th>10</th>\n",
       "      <td>Masa Azucar</td>\n",
       "      <td>30</td>\n",
       "      <td>g</td>\n",
       "    </tr>\n",
       "    <tr>\n",
       "      <th>11</th>\n",
       "      <td>Masa Agua 200ml</td>\n",
       "      <td>196.77</td>\n",
       "      <td>g</td>\n",
       "    </tr>\n",
       "    <tr>\n",
       "      <th>12</th>\n",
       "      <td>Masa Colorane (en bolsa)</td>\n",
       "      <td>1.8</td>\n",
       "      <td>g</td>\n",
       "    </tr>\n",
       "    <tr>\n",
       "      <th>13</th>\n",
       "      <td>Masa Bolsita de colorante</td>\n",
       "      <td>0.5</td>\n",
       "      <td>g</td>\n",
       "    </tr>\n",
       "    <tr>\n",
       "      <th>14</th>\n",
       "      <td>Masa Arroz</td>\n",
       "      <td>40</td>\n",
       "      <td>g</td>\n",
       "    </tr>\n",
       "    <tr>\n",
       "      <th>15</th>\n",
       "      <td>Corriente</td>\n",
       "      <td>0.099</td>\n",
       "      <td>A</td>\n",
       "    </tr>\n",
       "    <tr>\n",
       "      <th>16</th>\n",
       "      <td>Voltaje</td>\n",
       "      <td>20.1</td>\n",
       "      <td>mV</td>\n",
       "    </tr>\n",
       "    <tr>\n",
       "      <th>17</th>\n",
       "      <td>Tiempo total Colorante</td>\n",
       "      <td>08:06:54</td>\n",
       "      <td>min</td>\n",
       "    </tr>\n",
       "    <tr>\n",
       "      <th>18</th>\n",
       "      <td>Tiempo total Azucar</td>\n",
       "      <td>13:15:16</td>\n",
       "      <td>min</td>\n",
       "    </tr>\n",
       "    <tr>\n",
       "      <th>19</th>\n",
       "      <td>Tiempo total Arroz</td>\n",
       "      <td>10:36:48</td>\n",
       "      <td>min</td>\n",
       "    </tr>\n",
       "  </tbody>\n",
       "</table>\n",
       "</div>"
      ],
      "text/plain": [
       "                         Dato     Valor Unidad\n",
       "0          Masa Calorimetro_1     385.7      g\n",
       "1          Masa Calorimetro_2     398.7      g\n",
       "2          Masa Calorimetro_3     409.3      g\n",
       "3    Masa Calorimetro + 150ml     531.2      g\n",
       "4    Masa Calorimetro + 200ml     606.7      g\n",
       "5             Masa Vaso 600ml       215      g\n",
       "6    Masa Vaso 600ml + 150 ml     360.6      g\n",
       "7    Masa Vaso 600ml + 200 ml     415.1      g\n",
       "8       Temp Agua (calentada)      88.2      C\n",
       "9        Temp Agua (ambiente)      19.8      C\n",
       "10                Masa Azucar        30      g\n",
       "11            Masa Agua 200ml    196.77      g\n",
       "12   Masa Colorane (en bolsa)       1.8      g\n",
       "13  Masa Bolsita de colorante       0.5      g\n",
       "14                 Masa Arroz        40      g\n",
       "15                  Corriente     0.099      A\n",
       "16                    Voltaje      20.1     mV\n",
       "17     Tiempo total Colorante  08:06:54    min\n",
       "18        Tiempo total Azucar  13:15:16    min\n",
       "19         Tiempo total Arroz  10:36:48    min"
      ]
     },
     "execution_count": 5,
     "metadata": {},
     "output_type": "execute_result"
    }
   ],
   "source": [
    "pd.read_excel(raw_dir/file,sheet_name='Generales',header =None,names=['Dato','Valor','Unidad'])"
   ]
  },
  {
   "cell_type": "markdown",
   "id": "c91081b8-7e90-463a-8c2c-924b3fa34aaf",
   "metadata": {},
   "source": [
    "### Masas"
   ]
  },
  {
   "cell_type": "code",
   "execution_count": 6,
   "id": "53854987-4f2b-4763-961d-d64e29b8b353",
   "metadata": {},
   "outputs": [],
   "source": [
    "# Masa Calorimetro\n",
    "masa_calorimetro_1 = 385.7\t\n",
    "masa_calorimetro_2 = 398.7\t\n",
    "masa_calorimetro_3 = 409.3\t\n",
    "masa_calorimetro = np.mean([masa_calorimetro_1,masa_calorimetro_2,masa_calorimetro_3])\t\n",
    "masa_calorimetro_agua_150ml = 531.2\n",
    "masa_calorimetro_agua_200ml = 606.7\n",
    "# Masa Vaso\n",
    "masa_vaso = 215\t\n",
    "masa_vaso_agua_150ml = 360.6\n",
    "masa_vaso_agua_200ml = 415.1\n",
    "# Masa Agua 150 ml\n",
    "masa_agua_150ml_1 = masa_calorimetro_agua_150ml - masa_calorimetro_1 # Medidos juntos\n",
    "masa_agua_150ml_2 = masa_vaso_agua_150ml - masa_vaso\n",
    "masa_agua_150ml = np.mean([masa_agua_150ml_1, masa_agua_150ml_2])\n",
    "\n",
    "# Masa Agua 200 ml\n",
    "masa_agua_200ml_1 = masa_calorimetro_agua_200ml - masa_calorimetro\n",
    "masa_agua_200ml_2 = masa_vaso_agua_200ml - masa_vaso\n",
    "masa_agua_200ml_3 = 196.77\n",
    "masa_agua_200ml = np.mean([masa_agua_200ml_1, masa_agua_200ml_2, masa_agua_200ml_3])\n",
    "\n",
    "# Masa aditivos\n",
    "masa_ad_azucar = 30 \n",
    "masa_ad_arroz = 40 \n",
    "masa_ad_colorante = 1.8 - 0.5"
   ]
  },
  {
   "cell_type": "markdown",
   "id": "be1fe3ec-d61d-42a3-a136-6d6eb3ca0475",
   "metadata": {},
   "source": [
    "### Temperatura"
   ]
  },
  {
   "cell_type": "code",
   "execution_count": 421,
   "id": "da0beb5b-42cf-444d-b49a-aeb4ce524272",
   "metadata": {},
   "outputs": [],
   "source": [
    "temp_agua_cal = 88.2\t\n",
    "temp_agua_amb = 19.8"
   ]
  },
  {
   "cell_type": "markdown",
   "id": "5d27362b-3278-4172-aedc-a14e022d0a4c",
   "metadata": {},
   "source": [
    "### Series de Datos"
   ]
  },
  {
   "cell_type": "code",
   "execution_count": 8,
   "id": "34131553-9d65-49ea-8517-7feb0b3f60c1",
   "metadata": {},
   "outputs": [],
   "source": [
    "calorimetro = pd.read_excel(raw_dir/file,sheet_name='Calorimetro')\n",
    "corriente = pd.read_excel(raw_dir/file,sheet_name='Corriente')\n",
    "agua = pd.read_excel(raw_dir/file,sheet_name='Agua')\n",
    "arroz = pd.read_excel(raw_dir/file,sheet_name='Arroz')\n",
    "azucar = pd.read_excel(raw_dir/file,sheet_name='Azucar')\n",
    "colorante = pd.read_excel(raw_dir/file,sheet_name='Colorante')"
   ]
  },
  {
   "cell_type": "markdown",
   "id": "b61cb80e-3466-48ce-a321-0083cbd1f57f",
   "metadata": {},
   "source": [
    "# Parte I, Determinacion Cp Calorimetro"
   ]
  },
  {
   "cell_type": "markdown",
   "id": "7ee120dd-e18b-4c79-a3c7-e4e25881bdca",
   "metadata": {},
   "source": [
    "$$\n",
    "Q_{cedido} = Q_{absorbido}\n",
    "$$\n",
    "\n",
    "$$\n",
    "m_a c_a\\left(T_{\\text {caliente }}-T_{\\text {eq }}\\right)=m_a c_a\\left(T_{\\text {eq }}-T_{\\text {ini }}\\right)+m_c c_c\\left(T_{\\text {eq }}-T_{\\text {ini }}\\right)\n",
    "$$\n",
    "\n",
    "$$\n",
    "\\frac{m_a c_a\\left(T_{\\mathrm{caliente}}-T_{\\mathrm{eq}}\\right)}{T_{\\mathrm{eq}}-T_{\\mathrm{ini}}}=m_a c_a+m_c c_c\n",
    "$$\n",
    "\n",
    "$$\n",
    "\\frac{m_a c_a\\left(T_{\\mathrm{caliente}}-T_{\\mathrm{eq}}\\right)}{T_{\\mathrm{eq}}-T_{\\mathrm{ini}}}-m_a c_a=m_c c_c\n",
    "$$\n",
    "\n",
    "$$\n",
    "c_c=\\frac{m_a c_a}{m_c}\\left(\\frac{T_{\\mathrm{caliente}}-T_{\\mathrm{eq}}}{T_{\\mathrm{eq}}-T_{\\text {ini }}}-1\\right)\n",
    "$$\n"
   ]
  },
  {
   "cell_type": "code",
   "execution_count": 418,
   "id": "f01fb668-80e8-4f41-b9ba-bb0adcb02b1b",
   "metadata": {},
   "outputs": [],
   "source": [
    "coef_eq_calorimetro = np.polyfit(calorimetro.Tiempo, calorimetro.Temp, 2)\n",
    "equilb_termico = np.poly1d(coef_eq_calorimetro)\n",
    "tiempo_eq_cal = np.linspace(min(calorimetro.Tiempo), 3000, 100)\n",
    "temp_eq_cal = equilb_termico(tiempo_eq_cal)"
   ]
  },
  {
   "cell_type": "markdown",
   "id": "8e1cd1e5-87bc-4994-abb8-6bd1ec6c1624",
   "metadata": {},
   "source": [
    "## Extrapolacion tiempo de equilibrio termico"
   ]
  },
  {
   "cell_type": "code",
   "execution_count": 420,
   "id": "d09a6121-c868-421f-ad33-8706c63b5f99",
   "metadata": {},
   "outputs": [
    {
     "data": {
      "image/png": "[encoded data removed]",
      "text/plain": [
       "<Figure size 640x480 with 1 Axes>"
      ]
     },
     "metadata": {},
     "output_type": "display_data"
    }
   ],
   "source": [
    "tiempo_eq_final = tiempo_eq_cal[np.argmin(temp_eq_cal)]\n",
    "temp_eq_final = min(temp_eq_cal)\n",
    "\n",
    "fig, ax = plt.subplots()\n",
    "ax.scatter(calorimetro.Tiempo,calorimetro.Temp,lw=0.8,color='blue',zorder=2,s=15,facecolors='none',label='Mediciones')\n",
    "sns.regplot(x=calorimetro.Tiempo, y=calorimetro.Temp,order=2,scatter=False, line_kws={\"color\": \"red\", \"lw\": 1, \"alpha\":1,\"zorder\":1},label='Tendencia Ajustada',ax=ax)\n",
    "ax.plot(tiempo_eq_cal, temp_eq_cal,color='red',lw=0.7,ls='--',label='Tendencia Extrapolada')\n",
    "ax.hlines(y=temp_eq_final,xmin= 0, xmax=tiempo_eq_final,color='black',lw=0.8,ls='--',label='$T_{eq}$ Estimada')  \n",
    "\n",
    "ax.set_xlabel('Tiempo, s')\n",
    "ax.set_ylabel('Temperatura,$^{\\\\circ}$C')\n",
    "\n",
    "ax.set_xlim(0,x_line[np.argmin(y_line)])\n",
    "ax.set_ylim(40,50)\n",
    "\n",
    "plt.legend(fontsize=10)  \n",
    "plt.subplots_adjust(left=0.115, right=0.9, bottom=0.15, top=0.9)\n",
    "plt.savefig('Mediciones_Calorimetro.pdf', pad_inches=0.06)\n",
    "plt.show()"
   ]
  },
  {
   "cell_type": "markdown",
   "id": "e39f71da-3bf4-422f-ba3c-9260eb9cc1aa",
   "metadata": {},
   "source": [
    "$$\n",
    "c_c=\\frac{m_a c_a}{m_c}\\left(\\frac{T_{\\mathrm{caliente}}-T_{\\mathrm{eq}}}{T_{\\mathrm{eq}}-T_{\\text {ini }}}-1\\right)\n",
    "$$\n"
   ]
  },
  {
   "cell_type": "code",
   "execution_count": 426,
   "id": "0e18b0ae-8038-4f09-b431-ddf1eb57e3b2",
   "metadata": {},
   "outputs": [
    {
     "data": {
      "text/plain": [
       "np.float64(1.5724252192471733)"
      ]
     },
     "execution_count": 426,
     "metadata": {},
     "output_type": "execute_result"
    }
   ],
   "source": [
    "# cp_agua = 1 # cal/g C\n",
    "cp_agua = 4.1816 # J/g C\n",
    "\n",
    "cp_cal = masa_agua_150ml * cp_agua/masa_calorimetro * (((temp_agua_cal - temp_eq_final) / (temp_eq_final - temp_agua_amb))-1)\n",
    "cp_cal"
   ]
  },
  {
   "cell_type": "markdown",
   "id": "d05a4c0f-3715-41f2-a5c5-2795011eec1a",
   "metadata": {},
   "source": [
    "# Parte II, Determinacion del equivalente electrico del calor"
   ]
  },
  {
   "cell_type": "markdown",
   "id": "351e3ae0-8ade-476f-b377-b7b0e39322ed",
   "metadata": {},
   "source": [
    "## Datos medidos en cada escenario"
   ]
  },
  {
   "cell_type": "code",
   "execution_count": 30,
   "id": "e93f42c3-3736-4249-b85a-df2d04d98712",
   "metadata": {},
   "outputs": [],
   "source": [
    "temp_min = np.min([agua.Temp.min(),\n",
    "arroz.Temp.min(),\n",
    "azucar.Temp.min(),\n",
    "colorante.Temp.min()])"
   ]
  },
  {
   "cell_type": "code",
   "execution_count": 58,
   "id": "df9533cf-0191-48d9-b387-c9cce5c37aea",
   "metadata": {},
   "outputs": [
    {
     "data": {
      "image/png": "[encoded data removed]",
      "text/plain": [
       "<Figure size 640x480 with 1 Axes>"
      ]
     },
     "metadata": {},
     "output_type": "display_data"
    }
   ],
   "source": [
    "offset = 1\n",
    "plt.plot(agua.Tiempo,agua.Temp,label='Agua',color='blue')\n",
    "sns.regplot(x=agua.Tiempo[offset:], y=agua.Temp[offset:],ci=False,order=1,scatter=False, line_kws={\"color\": \"blue\",\"ls\":'--', \"lw\": 0.7, \"alpha\":1})\n",
    "plt.plot(arroz.Tiempo,arroz.Temp,label='Arroz',color='orange')\n",
    "sns.regplot(x=arroz.Tiempo[offset:], y=arroz.Temp[offset:],ci=False,order=1,scatter=False, line_kws={\"color\": \"orange\",\"ls\":'--', \"lw\": 0.7, \"alpha\":1})\n",
    "plt.plot(azucar.Tiempo,azucar.Temp,label='Azucar',color='darkgray')\n",
    "sns.regplot(x=azucar.Tiempo[offset:], y=azucar.Temp[offset:],ci=False,order=1,scatter=False, line_kws={\"color\": \"darkgray\",\"ls\":'--', \"lw\": 0.7, \"alpha\":1})\n",
    "plt.plot(colorante.Tiempo,colorante.Temp,label='Colorante')\n",
    "sns.regplot(x=colorante.Tiempo[offset:], y=colorante.Temp[offset:],ci=False,order=1,scatter=False, line_kws={\"color\": \"red\",\"ls\":'--', \"lw\": 0.7, \"alpha\":1})\n",
    "\n",
    "plt.hlines(y=temp_min,xmin= 0, xmax=900,color='black',lw=0.8,ls='--')  \n",
    "plt.hlines(y=80,xmin= 0, xmax=900,color='black',lw=0.8,ls='--')  \n",
    "\n",
    "plt.xlabel('Tiempo, s')\n",
    "plt.ylabel('Temperatura,$^{\\\\circ}$C')\n",
    "\n",
    "plt.ylim(10,90)\n",
    "plt.xlim(0,800)\n",
    "\n",
    "plt.legend(loc='lower right')\n",
    "plt.subplots_adjust(left=0.115, right=0.9, bottom=0.15, top=0.9)\n",
    "plt.savefig('CasosExperimento.pdf', pad_inches=0.06)\n",
    "plt.show()"
   ]
  },
  {
   "cell_type": "markdown",
   "id": "c7adeac4-a1cd-4ce9-8c37-fa569e7bb5a4",
   "metadata": {},
   "source": [
    "$$\n",
    "dU = \\delta W_{electrico} - \\delta Q\n",
    "$$\n",
    "\n",
    "como $dU=0$, $\\Rightarrow$\n",
    "$$\\delta W_{electrico} = \\delta Q$$\n",
    "$$\\frac{\\delta W_{\\text{eléctrico}}}{\\delta Q} = 1 \\left[\\frac{J}{J}\\right] = \n",
    "\\underbrace{4.18 \\left[\\frac{J}{\\text{cal}}\\right]}_{\\text{Se conoce como } J}$$\n",
    "\n",
    "$$J = \\frac{\\delta W_{electrico}}{\\delta Q} $$"
   ]
  },
  {
   "cell_type": "markdown",
   "id": "42d3ddfe-d322-4e19-9115-a8a239215fd2",
   "metadata": {},
   "source": [
    "$$\n",
    "J = \\frac{V \\cdot I \\cdot t}{mc_p \\Delta T} \\Rightarrow \\Delta T = \\frac{V \\cdot I \\cdot t}{mc_p \\  J} \n",
    "$$\n",
    "\n",
    "$$\n",
    "\\Rightarrow  (T - T_0) = \\frac{V \\cdot I \\cdot t}{mc_p \\  J}\n",
    "$$\n",
    "\n",
    "\n",
    "$$\n",
    "T({\\color{red}{t}}) = \\frac{V\\cdot I }{\\left(\\sum{m_i\\cdot c_{p_i}} \\right) \\ J} \\ {\\color{red}{t}} + T_0\n",
    "$$\n",
    "\n",
    "donde $\n",
    "\\sum{m_i\\cdot c_i} = (m_w + m_x) \\cdot c_x + m_c \\cdot c_c  \n",
    "$\n",
    "\n",
    "$$\n",
    "T({\\color{red}{t}}) = {\\color{blue}{\\beta}} \\ {\\color{red}{t}} + T_0\n",
    "$$\n",
    "\n",
    "$$\n",
    "{\\color{blue}{\\beta}} = \\frac{V\\cdot I }{\\left(\\sum{m_i\\cdot c_i} \\right) J} \n",
    "$$\n",
    "\n",
    "$$\n",
    "J = \\frac{V\\cdot I }{\\left(\\sum{m_i\\cdot c_i} \\right) {\\color{blue}{\\beta}}} \n",
    "$$\n",
    "\n",
    "\n",
    "\n"
   ]
  },
  {
   "cell_type": "markdown",
   "id": "546f64de-f3ff-48bb-840d-3d93886178c7",
   "metadata": {},
   "source": [
    "$\\beta$ seria el gradiente de temperatura con respecto del tiempo, el cual es particular de cada set de datos\n",
    "$$\n",
    "\\beta =\\frac{V \\cdot A}{(g \\cdot \\frac{J}{g\\   ^{\\circ}C})}= \\frac{W}{(g \\cdot \\frac{J}{g\\   ^{\\circ}C})}= \\frac{J/s}{(g \\cdot \\frac{J}{g\\   ^{\\circ}C})} = \\left[\\frac{^{\\circ}C}{s}\\right]\n",
    "$$"
   ]
  },
  {
   "cell_type": "code",
   "execution_count": 67,
   "id": "66deeb5c-f879-4266-9bbb-c86e4a4f8593",
   "metadata": {},
   "outputs": [],
   "source": [
    "def calcular_pendientes_y_R2(pares):\n",
    "    pendientes = []\n",
    "    valores_R2 = []\n",
    "    for X, Y in pares:\n",
    "        coef = np.polyfit(X, Y, 1)\n",
    "        pendiente = coef[0]\n",
    "        R = np.corrcoef(X, Y)[0, 1]\n",
    "        R2 = R ** 2\n",
    "        pendientes.append(pendiente)\n",
    "        valores_R2.append(R2)\n",
    "\n",
    "    return pendientes, valores_R2"
   ]
  },
  {
   "cell_type": "code",
   "execution_count": 502,
   "id": "ed43785f-e898-4a02-af9c-6b1a6cb3c67d",
   "metadata": {},
   "outputs": [],
   "source": [
    "pares_datos = [\n",
    "    [agua.Tiempo, agua.Temp],\n",
    "    [azucar.Tiempo, azucar.Temp],\n",
    "    [arroz.Tiempo, arroz.Temp],\n",
    "    [colorante.Tiempo, colorante.Temp]\n",
    "]\n",
    "\n",
    "etiquetas = ['Agua', 'Azucar', 'Arroz', 'Colorante']\n",
    "pendientes, valores_R2 = calcular_pendientes_y_R2(pares_datos)\n",
    "resultados = pd.DataFrame({\n",
    "    'Experimento': etiquetas,\n",
    "    'Pendiente': pendientes,\n",
    "    'R2': valores_R2\n",
    "})\n",
    "resultados.set_index('Experimento', inplace=True)"
   ]
  },
  {
   "cell_type": "code",
   "execution_count": 503,
   "id": "1b899196-1fdf-45c9-8273-863af50d5da9",
   "metadata": {},
   "outputs": [
    {
     "name": "stdout",
     "output_type": "stream",
     "text": [
      "             Pendiente        R2\n",
      "Experimento                     \n",
      "Agua          0.082461  0.999218\n",
      "Azucar        0.077725  0.999085\n",
      "Arroz         0.091822  0.989213\n",
      "Colorante     0.120769  0.989569\n"
     ]
    }
   ],
   "source": [
    "print(resultados)"
   ]
  },
  {
   "cell_type": "markdown",
   "id": "75ae4261-ac21-4cf5-8026-b43ed8213ded",
   "metadata": {},
   "source": [
    "Todos los valores $J$, para cada experimento deben ser iguales, ya que expresa que el trabajo electrico se transfirio al agua como Calor, manifestandose en un aumento de temperatura. Aunque $\\beta$ viene del ajuste de los datos medidos, y las masas tambien se tienen, las mediciones de Voltaje y Corriente, presentan valores incongruentes de Potencia electrica ademas que las capacidades calorificas para las sustancias, son en general desconocidas. Estas ultimas tendrian que haberse calculado por un experimento independiente a traves de aplicar la le de mezclas. \n",
    "\n",
    "Es decir que se desconocen los valores de $V$, $I$ y $c_{p_{x}}$"
   ]
  },
  {
   "cell_type": "markdown",
   "id": "df1e34d6-0a16-4557-9eb6-6d5214878b53",
   "metadata": {},
   "source": [
    "$$\n",
    "J = \\frac{ {\\color{red}{V\\cdot I}} }{\\left( (m_w + m_x) \\cdot {\\color{red}{c_x}} + m_c \\cdot c_c   \\right) \\beta}\n",
    "$$\n"
   ]
  },
  {
   "cell_type": "markdown",
   "id": "8b8504e7-aa77-4c05-a881-f3f82ec26e7f",
   "metadata": {},
   "source": [
    "### Para las sustancias con $C_x$ conocido"
   ]
  },
  {
   "cell_type": "markdown",
   "id": "aa8897ad-95ed-4296-b2fe-96effd0d4856",
   "metadata": {},
   "source": [
    "$$\n",
    "J_{1} \\beta_{1} \\left(\\sum{m_{i} c_{i}}\\right)_{1} =\n",
    "J_{2} \\beta_{2} \\left(\\sum{m_{i} c_{i}}\\right)_{2} \n",
    "$$"
   ]
  },
  {
   "cell_type": "markdown",
   "id": "b7bb7baa-9f4a-41b3-9e62-4748c4bdbefe",
   "metadata": {},
   "source": [
    "$$\n",
    "J_{1}  =\n",
    "J_{2} \\frac{\\beta_{2} \\left(\\sum{m_{i} c_{i}}\\right)_{2}}{\\beta_{1} \\left(\\sum{m_{i} c_{i}}\\right)_{1}}\n",
    "$$"
   ]
  },
  {
   "cell_type": "markdown",
   "id": "ce98d664-d293-4bac-86fa-da14fefc0444",
   "metadata": {},
   "source": [
    "Aunque no podamos definir $J$ de forma explicita para cada experimento, podemos evaluar el cociente \n",
    "\n",
    "$$\n",
    "\\frac{\\beta_{2} \\left(\\sum{m_{i} c_{i}}\\right)_{2}}{\\beta_{1} \\left(\\sum{m_{i} c_{i}}\\right)_{1}} \\approx 1\n",
    "$$\n",
    "\n",
    "Con lo que se podra concluir independientemente del valor de J, si los experimentos tienen el mismo valor. Sin embargo para esto se requiere conocer el $C_{p{x}}$ de la mezcla, para el caso del azucar, esta puede tomarse de la literatura, con base en su concentracion. "
   ]
  },
  {
   "cell_type": "code",
   "execution_count": 504,
   "id": "9e8f8560-3cf2-4c78-a43c-7f4c7502e9f2",
   "metadata": {},
   "outputs": [
    {
     "name": "stdout",
     "output_type": "stream",
     "text": [
      "             Pendiente        R2  Concentracion\n",
      "Experimento                                    \n",
      "Agua          0.082461  0.999218       0.000000\n",
      "Azucar        0.077725  0.999085      12.937168\n",
      "Arroz         0.091822  0.989213            NaN\n",
      "Colorante     0.120769  0.989569       0.639795\n"
     ]
    }
   ],
   "source": [
    "resultados= resultados.assign(Concentracion=100*np.array([0, masa_ad_azucar, np.nan, masa_ad_colorante])/(np.array([0, masa_ad_azucar, np.nan, masa_ad_colorante]) + masa_agua_200ml))\n",
    "print(resultados)"
   ]
  },
  {
   "cell_type": "code",
   "execution_count": 505,
   "id": "2929cfe0-a2f8-4fe4-be47-248b57feb6fe",
   "metadata": {},
   "outputs": [],
   "source": [
    "h2o_azucar_concentracion = [0, 10, 20, 30, 40, 50, 60]\n",
    "h2o_azucar_cp = np.array([4187, 4120, 3864, 3626, 3358, 3256, 2939])/1000\n",
    "cp_azucar = np.interp(resultados.loc['Azucar'].Concentracion, h2o_azucar_concentracion, h2o_azucar_cp)"
   ]
  },
  {
   "cell_type": "code",
   "execution_count": 547,
   "id": "b526fb56-24cc-43cc-9f5a-c654ec82394d",
   "metadata": {},
   "outputs": [
    {
     "data": {
      "image/png": "[encoded data removed]",
      "text/plain": [
       "<Figure size 640x480 with 1 Axes>"
      ]
     },
     "metadata": {},
     "output_type": "display_data"
    }
   ],
   "source": [
    "plt.plot(h2o_azucar_concentracion, h2o_azucar_cp, marker='v',color='red',mec='black',mfc='white',ms=7,ls='--')\n",
    "plt.scatter([resultados.loc['Azucar'].Concentracion],[cp_azucar],s=50,c='cyan',edgecolor='black',zorder=2)\n",
    "plt.xlabel('Concentracion, $\\\\%  m/ m$')\n",
    "plt.ylabel('$C_p$  Agua Azucarada,$[J/kg \\\\ C]$')\n",
    "plt.subplots_adjust(left=0.115, right=0.9, bottom=0.15, top=0.9)\n",
    "plt.savefig('AguaAzucarada.pdf', pad_inches=0.06)\n",
    "plt.show()\n",
    "# cp_azucar/= 1000"
   ]
  },
  {
   "cell_type": "code",
   "execution_count": 548,
   "id": "646819e5-0e16-4f57-9788-0ab65938a861",
   "metadata": {},
   "outputs": [
    {
     "data": {
      "text/plain": [
       "np.float64(4.044808486782526)"
      ]
     },
     "execution_count": 548,
     "metadata": {},
     "output_type": "execute_result"
    }
   ],
   "source": [
    "cp_azucar"
   ]
  },
  {
   "cell_type": "code",
   "execution_count": 507,
   "id": "a2f307b5-084c-486c-99a5-9bbd4f7fc426",
   "metadata": {},
   "outputs": [],
   "source": [
    "βmc_2 = resultados.loc['Azucar'].Pendiente*(masa_calorimetro*cp_cal + (masa_agua_200ml + masa_ad_azucar)*cp_azucar)\n",
    "βmc_1 = resultados.loc['Agua'].Pendiente*(masa_calorimetro*cp_cal + masa_agua_200ml*cp_agua)"
   ]
  },
  {
   "cell_type": "code",
   "execution_count": 508,
   "id": "30a60426-5feb-4029-bdef-982067897677",
   "metadata": {},
   "outputs": [
    {
     "name": "stdout",
     "output_type": "stream",
     "text": [
      "1.0026674982270143\n"
     ]
    }
   ],
   "source": [
    "βmc_cociente = βmc_2/βmc_1\n",
    "print(βmc_cociente)"
   ]
  },
  {
   "cell_type": "code",
   "execution_count": 509,
   "id": "e4572b26-74f1-41ee-a63a-595c38742145",
   "metadata": {},
   "outputs": [
    {
     "name": "stdout",
     "output_type": "stream",
     "text": [
      "El error del cociente es 0.267%\n"
     ]
    }
   ],
   "source": [
    "print(f'El error del cociente es {round(100*abs(βmc_cociente-1)/1,3)}%')"
   ]
  },
  {
   "cell_type": "markdown",
   "id": "3cab581c-4673-4ad0-ae75-c4ca24698903",
   "metadata": {},
   "source": [
    "### Para las sustancias con $C_x$ desconocido"
   ]
  },
  {
   "cell_type": "markdown",
   "id": "bdde3e81-992c-41b1-ab62-057e3eeea987",
   "metadata": {},
   "source": [
    "En este caso tendremos que hacer uso directamente del equivalente entre $W_e$ y $Q$ para poder despejar el $C_p$ desconocido"
   ]
  },
  {
   "cell_type": "markdown",
   "id": "4e42a10a-c08d-4286-a613-f1cda127c40a",
   "metadata": {},
   "source": [
    "$$\n",
    "c_{p_{2}} \\approx   \\frac{\\beta_{1} \\left(m_{1} \\cdot c_{1} + m_{c} \\cdot c_{c} \\right)}{\\beta_{2} \\left(m_{1} + m_{2}\\right)} - \\frac{m_{c} \\cdot c_{c}}{\\left(m_{1} + m_{2}\\right)} \n",
    "$$"
   ]
  },
  {
   "cell_type": "code",
   "execution_count": 510,
   "id": "ce6f819c-0b1e-4167-967e-d877dd12682e",
   "metadata": {},
   "outputs": [],
   "source": [
    "def cp2(m2, β2):\n",
    "    \"\"\"\n",
    "    Compara con el caso del agua, si fuera con otro caso, habria que separar igual el m1 del agua\n",
    "    \"\"\"\n",
    "    β1 = resultados.loc['Agua'].Pendiente\n",
    "    cp1 = cp_agua\n",
    "    return (β1*(masa_agua_200ml*cp1 + masa_calorimetro*cp_cal))/(β2*(masa_agua_200ml+m2)) - (masa_calorimetro*cp_cal)/(masa_agua_200ml + m2)"
   ]
  },
  {
   "cell_type": "code",
   "execution_count": 511,
   "id": "c434a018-22d7-42d1-863d-c673b8f3b456",
   "metadata": {},
   "outputs": [
    {
     "data": {
      "text/plain": [
       "array([4.1816    , 4.04480849, 2.87063051, 1.86017759])"
      ]
     },
     "execution_count": 511,
     "metadata": {},
     "output_type": "execute_result"
    }
   ],
   "source": [
    "cp = []\n",
    "cp.append(cp_agua)\n",
    "cp.append(cp_azucar)\n",
    "cp.append(cp2(masa_ad_arroz, resultados.loc['Arroz'].Pendiente))\n",
    "cp.append(cp2(masa_ad_colorante, resultados.loc['Colorante'].Pendiente))\n",
    "cp = np.array(cp)\n",
    "cp"
   ]
  },
  {
   "cell_type": "code",
   "execution_count": 512,
   "id": "acb3ee71-c204-421e-9fd6-a0df59e10107",
   "metadata": {},
   "outputs": [
    {
     "name": "stdout",
     "output_type": "stream",
     "text": [
      "             Pendiente        R2  Concentracion        Cp\n",
      "Experimento                                              \n",
      "Agua          0.082461  0.999218       0.000000  4.181600\n",
      "Azucar        0.077725  0.999085      12.937168  4.044808\n",
      "Arroz         0.091822  0.989213            NaN  2.870631\n",
      "Colorante     0.120769  0.989569       0.639795  1.860178\n"
     ]
    }
   ],
   "source": [
    "resultados= resultados.assign(Cp=cp)\n",
    "print(resultados)"
   ]
  },
  {
   "cell_type": "markdown",
   "id": "a095a387-9ff4-4650-ae32-9a3c84971325",
   "metadata": {},
   "source": [
    "### Supongamos un valor de V"
   ]
  },
  {
   "cell_type": "markdown",
   "id": "2051c0a4-573e-49f7-96f1-95d2d746ac3f",
   "metadata": {},
   "source": [
    "$$\n",
    "I = \\frac{P}{V} = \\frac{[W]}{[V]} = [A]\n",
    "$$\n",
    "\n",
    "\n",
    "$$\n",
    "P = \\frac{V^2}{R} = \\frac{[V^2]}{[\\Omega]} = [W]\n",
    "$$"
   ]
  },
  {
   "cell_type": "markdown",
   "id": "970fac0f-e823-45cb-86cf-ef4823fcf2cb",
   "metadata": {},
   "source": [
    "$$\n",
    "J = \\frac{V\\cdot (V /R) }{\\left(\\sum{m_i\\cdot c_i} \\right) \\beta} \n",
    "$$\n",
    "\n",
    "\n",
    "$$\n",
    "J = \\frac{1}{R \\left(\\sum{m_i\\cdot c_i} \\right)\\beta} \\cdot {\\color{red}{V}^2 }\n",
    "$$\n"
   ]
  },
  {
   "cell_type": "code",
   "execution_count": 541,
   "id": "5feca205-6a2b-42e8-a809-a207202db693",
   "metadata": {},
   "outputs": [
    {
     "name": "stdout",
     "output_type": "stream",
     "text": [
      "   Voltaje  Resistencia    Potencia\n",
      "0       20            1  400.000000\n",
      "1       20            2  200.000000\n",
      "2       20            3  133.333333\n"
     ]
    }
   ],
   "source": [
    "voltaje = 20 # V\n",
    "resistencias = np.array([1, 2, 3])\n",
    "escenarios_resistencia = pd.DataFrame(zip([voltaje]*3,resistencias,voltaje**2 / resistencias ), columns =['Voltaje','Resistencia','Potencia'])\n",
    "print(escenarios_resistencia)"
   ]
  },
  {
   "cell_type": "code",
   "execution_count": 534,
   "id": "875a9f23-cbde-4d27-87d8-9b7633597b4d",
   "metadata": {},
   "outputs": [],
   "source": [
    "masa_ads = [0, masa_ad_azucar, masa_ad_arroz, masa_ad_colorante] \n",
    "\n",
    "for exp, masa_ad, cpi in zip(etiquetas, masa_ads, cp):\n",
    "\n",
    "    sum_mc = (masa_agua_200ml + masa_ad) * cpi + masa_calorimetro * cp_cal\n",
    "    beta = resultados.loc[exp, 'Pendiente']\n",
    "    J_den = sum_mc * beta\n",
    "\n",
    "    for res in resistencias:\n",
    "        corriente = voltaje/res # A\n",
    "        potencia_electrica = voltaje * corriente\n",
    "        J_num = potencia_electrica\n",
    "        J_value = J_num / J_den\n",
    "        resultados.loc[exp, f'J_Ω{res}'] = J_value\n",
    "        resultados.loc[exp, f'J_Ω{res}_err_prc'] = 100*abs(J_value-1)/1"
   ]
  },
  {
   "cell_type": "code",
   "execution_count": 543,
   "id": "ff23b021-4ee3-41a3-af3d-f7c15329640b",
   "metadata": {},
   "outputs": [
    {
     "data": {
      "text/html": [
       "<div>\n",
       "<style scoped>\n",
       "    .dataframe tbody tr th:only-of-type {\n",
       "        vertical-align: middle;\n",
       "    }\n",
       "\n",
       "    .dataframe tbody tr th {\n",
       "        vertical-align: top;\n",
       "    }\n",
       "\n",
       "    .dataframe thead th {\n",
       "        text-align: right;\n",
       "    }\n",
       "</style>\n",
       "<table border=\"1\" class=\"dataframe\">\n",
       "  <thead>\n",
       "    <tr style=\"text-align: right;\">\n",
       "      <th></th>\n",
       "      <th>Pendiente</th>\n",
       "      <th>R2</th>\n",
       "      <th>Concentracion</th>\n",
       "      <th>Cp</th>\n",
       "      <th>J_Ω1</th>\n",
       "      <th>J_Ω1_err_prc</th>\n",
       "      <th>J_Ω2</th>\n",
       "      <th>J_Ω2_err_prc</th>\n",
       "      <th>J_Ω3</th>\n",
       "      <th>J_Ω3_err_prc</th>\n",
       "    </tr>\n",
       "    <tr>\n",
       "      <th>Experimento</th>\n",
       "      <th></th>\n",
       "      <th></th>\n",
       "      <th></th>\n",
       "      <th></th>\n",
       "      <th></th>\n",
       "      <th></th>\n",
       "      <th></th>\n",
       "      <th></th>\n",
       "      <th></th>\n",
       "      <th></th>\n",
       "    </tr>\n",
       "  </thead>\n",
       "  <tbody>\n",
       "    <tr>\n",
       "      <th>Agua</th>\n",
       "      <td>0.082461</td>\n",
       "      <td>0.999218</td>\n",
       "      <td>0.000000</td>\n",
       "      <td>4.181600</td>\n",
       "      <td>3.300098</td>\n",
       "      <td>230.009788</td>\n",
       "      <td>1.650049</td>\n",
       "      <td>65.004894</td>\n",
       "      <td>1.100033</td>\n",
       "      <td>10.003263</td>\n",
       "    </tr>\n",
       "    <tr>\n",
       "      <th>Azucar</th>\n",
       "      <td>0.077725</td>\n",
       "      <td>0.999085</td>\n",
       "      <td>12.937168</td>\n",
       "      <td>4.044808</td>\n",
       "      <td>3.291318</td>\n",
       "      <td>229.131829</td>\n",
       "      <td>1.645659</td>\n",
       "      <td>64.565915</td>\n",
       "      <td>1.097106</td>\n",
       "      <td>9.710610</td>\n",
       "    </tr>\n",
       "    <tr>\n",
       "      <th>Arroz</th>\n",
       "      <td>0.091822</td>\n",
       "      <td>0.989213</td>\n",
       "      <td>NaN</td>\n",
       "      <td>2.870631</td>\n",
       "      <td>3.300098</td>\n",
       "      <td>230.009788</td>\n",
       "      <td>1.650049</td>\n",
       "      <td>65.004894</td>\n",
       "      <td>1.100033</td>\n",
       "      <td>10.003263</td>\n",
       "    </tr>\n",
       "    <tr>\n",
       "      <th>Colorante</th>\n",
       "      <td>0.120769</td>\n",
       "      <td>0.989569</td>\n",
       "      <td>0.639795</td>\n",
       "      <td>1.860178</td>\n",
       "      <td>3.300098</td>\n",
       "      <td>230.009788</td>\n",
       "      <td>1.650049</td>\n",
       "      <td>65.004894</td>\n",
       "      <td>1.100033</td>\n",
       "      <td>10.003263</td>\n",
       "    </tr>\n",
       "  </tbody>\n",
       "</table>\n",
       "</div>"
      ],
      "text/plain": [
       "             Pendiente        R2  Concentracion        Cp      J_Ω1  \\\n",
       "Experimento                                                           \n",
       "Agua          0.082461  0.999218       0.000000  4.181600  3.300098   \n",
       "Azucar        0.077725  0.999085      12.937168  4.044808  3.291318   \n",
       "Arroz         0.091822  0.989213            NaN  2.870631  3.300098   \n",
       "Colorante     0.120769  0.989569       0.639795  1.860178  3.300098   \n",
       "\n",
       "             J_Ω1_err_prc      J_Ω2  J_Ω2_err_prc      J_Ω3  J_Ω3_err_prc  \n",
       "Experimento                                                                \n",
       "Agua           230.009788  1.650049     65.004894  1.100033     10.003263  \n",
       "Azucar         229.131829  1.645659     64.565915  1.097106      9.710610  \n",
       "Arroz          230.009788  1.650049     65.004894  1.100033     10.003263  \n",
       "Colorante      230.009788  1.650049     65.004894  1.100033     10.003263  "
      ]
     },
     "execution_count": 543,
     "metadata": {},
     "output_type": "execute_result"
    }
   ],
   "source": [
    "resultados"
   ]
  },
  {
   "cell_type": "code",
   "execution_count": 546,
   "id": "bc0c464d-1408-4c39-8d49-ad14d2efd6ff",
   "metadata": {},
   "outputs": [
    {
     "data": {
      "image/png": "[encoded data removed]",
      "text/plain": [
       "<Figure size 640x480 with 1 Axes>"
      ]
     },
     "metadata": {},
     "output_type": "display_data"
    }
   ],
   "source": [
    "Σmc = masa_agua_200ml*cp_agua + masa_calorimetro * cp_cal\n",
    "β = resultados.loc['Agua'].Pendiente\n",
    "V = np.linspace(0, 50,100)\n",
    "J_num = V**2\n",
    "J_den = Σmc * β\n",
    "J = J_num/J_den\n",
    "\n",
    "# J_agua = resultados.loc['Agua'].J\n",
    "\n",
    "plt.plot(V, J/1,color='cyan',lw=1,label='$$\\\\Omega = 1$$')\n",
    "plt.plot(V, J/2,color='#143aa3',lw=1,label='$$\\\\Omega = 2$$')\n",
    "plt.plot(V, J/3,color='blue',lw=1,label='$$\\\\Omega = 3$$')\n",
    "\n",
    "# Potencia nominal usual de un calorimetro\n",
    "plt.vlines(ymin=0,x= 6, ymax=10,lw=0.8,ls='--',color='green')   \n",
    "# Potencia indicada por la practica\n",
    "plt.vlines(ymin=0,x= voltaje, ymax=resultados.loc['Agua','J_Ω1'],lw=0.8,ls='--',color='#143aa3',alpha=0.5)  \n",
    "plt.hlines(y=resultados.loc['Agua','J_Ω1'],xmin= 0, xmax=50,color='#143aa3',lw=0.8,ls='--',alpha=0.5) \n",
    "plt.hlines(y=resultados.loc['Agua','J_Ω2'],xmin= 0, xmax=50,color='#143aa3',lw=0.8,ls='--',alpha=0.5) \n",
    "plt.hlines(y=resultados.loc['Agua','J_Ω3'],xmin= 0, xmax=50,color='#143aa3',lw=0.8,ls='--',alpha=0.5) \n",
    "# Potencia ideal para tener 4.18\n",
    "# plt.vlines(ymin=0,x= voltaje_ideal, ymax= 1,lw=1,ls='--',color='firebrick',alpha=0.3)  \n",
    "plt.hlines(y=1,xmin= 0, xmax=50,lw=1,color='firebrick',ls='--',alpha=0.9)  \n",
    "\n",
    "plt.axvspan(0, 6, color='#2bff00', alpha=0.05)\n",
    "plt.axvspan(6, 50, color='#ffe987', alpha=0.09)\n",
    "plt.text(0.3, 1 + 0.1, 'J Teorica',color='firebrick',fontsize=10)\n",
    "# plt.text(7, 1 + 0.1, f'31.3 V,  2 $\\\\Omega$,  J = {1}',color='firebrick',size=10)\n",
    "\n",
    "plt.text(38, resultados.loc['Agua','J_Ω1'] + 0.1, f'20 V,  1 $\\\\Omega$,  J = {round(resultados.loc['Agua','J_Ω1'],3)}',color='#143aa3',size=10)\n",
    "plt.text(38, resultados.loc['Agua','J_Ω2'] + 0.1, f'20 V,  2 $\\\\Omega$,  J = {round(resultados.loc['Agua','J_Ω2'],3)}',color='#143aa3',size=10)\n",
    "plt.text(38, resultados.loc['Agua','J_Ω3'] + 0.1, f'20 V,  3 $\\\\Omega$,  J = {round(resultados.loc['Agua','J_Ω3'],3)}',color='#143aa3',size=10)\n",
    "plt.ylim(0,10)\n",
    "plt.xlim(0,50)\n",
    "plt.xlabel('Voltaje aplicado por el Variac, [V]')\n",
    "plt.ylabel('Equivalente J,$[J/J]$')\n",
    "plt.legend(loc='upper left', framealpha=1)\n",
    "plt.subplots_adjust(left=0.115, right=0.9, bottom=0.15, top=0.9)\n",
    "plt.savefig('J_wrt_V.pdf', pad_inches=0.06)\n",
    "plt.show()"
   ]
  },
  {
   "cell_type": "markdown",
   "id": "3a5c94a7-2c22-4237-85d2-de45376dc0ec",
   "metadata": {},
   "source": [
    "# Fin"
   ]
  },
  {
   "cell_type": "code",
   "execution_count": null,
   "id": "85077cbc-6bda-47bf-8253-1a8942ffda0d",
   "metadata": {},
   "outputs": [],
   "source": []
  },
  {
   "cell_type": "code",
   "execution_count": null,
   "id": "2daa88ea-e362-423b-826b-640cee1fe437",
   "metadata": {},
   "outputs": [],
   "source": []
  },
  {
   "cell_type": "code",
   "execution_count": null,
   "id": "952bf0a0-6c2b-4fb3-8d3e-cc6a6b432e69",
   "metadata": {},
   "outputs": [],
   "source": []
  },
  {
   "cell_type": "markdown",
   "id": "9a8fe152-ef69-40f9-bf5b-dc45c4dd2701",
   "metadata": {},
   "source": [
    "$$\n",
    "J_{agua} \\approx J_{azucar}\n",
    "$$\n",
    "\n",
    "$$\n",
    "J_{agua} = \\frac{1}{\\left(\\sum{m_i\\cdot c_i} \\right)_{agua}\\beta_{agua}} \\cdot \\frac{{\\color{red}{V}^2 }}{R}\n",
    "$$\n",
    "\n",
    "$$\n",
    "J_{azucar} = \\frac{1}{\\left(\\sum{m_i\\cdot c_i} \\right)_{azucar}\\beta_{azucar}} \\cdot \\frac{{\\color{red}{V}^2 }}{R}\n",
    "$$\n",
    "\n",
    "$$\n",
    "\\frac{1}{\\left(\\sum{m_i\\cdot c_i} \\right)_{agua}\\beta_{agua}} \\approx \\frac{1}{\\left(\\sum{m_i\\cdot c_i} \\right)_{azucar}\\beta_{azucar}}\n",
    "$$"
   ]
  },
  {
   "cell_type": "markdown",
   "id": "9d186d75-33ce-46ae-82f0-266218cf9a8f",
   "metadata": {},
   "source": [
    "---"
   ]
  },
  {
   "cell_type": "code",
   "execution_count": null,
   "id": "9deffe86-9c23-40a3-9e71-4058d5b71820",
   "metadata": {},
   "outputs": [],
   "source": []
  },
  {
   "cell_type": "code",
   "execution_count": null,
   "id": "da173500-f743-447a-a04e-7b1243ba98d7",
   "metadata": {},
   "outputs": [],
   "source": []
  },
  {
   "cell_type": "code",
   "execution_count": null,
   "id": "a1306852-8a70-4405-aa6f-ce544c514597",
   "metadata": {},
   "outputs": [],
   "source": []
  },
  {
   "cell_type": "code",
   "execution_count": null,
   "id": "678cccf2-eec0-4d7d-9d15-c35bb93781cd",
   "metadata": {},
   "outputs": [],
   "source": []
  },
  {
   "cell_type": "code",
   "execution_count": null,
   "id": "e65ae2f1-6a97-42e9-bf95-fcb1b6898f4f",
   "metadata": {},
   "outputs": [],
   "source": []
  },
  {
   "cell_type": "code",
   "execution_count": 22,
   "id": "65307c71-a719-402d-9bb9-f97884891608",
   "metadata": {},
   "outputs": [],
   "source": [
    "def calcular_pendientes(pares):\n",
    "    pendientes = []\n",
    "    for par in pares:\n",
    "        X, Y = par  \n",
    "        coef = np.polyfit(X, Y, 1)\n",
    "        pendientes.append(coef[0])\n",
    "    return pendientes"
   ]
  },
  {
   "cell_type": "code",
   "execution_count": 122,
   "id": "aefaa5bb-236c-4e20-914b-633aa759ff4e",
   "metadata": {},
   "outputs": [],
   "source": [
    "# pares_datos = [\n",
    "#     [agua.Tiempo,agua.Temp],\n",
    "#     [arroz.Tiempo,arroz.Temp],\n",
    "#     [azucar.Tiempo,azucar.Temp],\n",
    "#     [colorante.Tiempo,colorante.Temp]\n",
    "# ]\n",
    "# etiquetas = ['Agua', 'Arroz', 'Azucar', 'Colorante']\n",
    "# pendientes = calcular_pendientes(pares_datos)\n",
    "# resultados = pd.DataFrame(zip(etiquetas,pendientes), columns=['Experimento','Pendiente'])\n",
    "# resultados.set_index('Experimento',inplace=True)"
   ]
  },
  {
   "cell_type": "code",
   "execution_count": 96,
   "id": "6afd8b51-abad-4717-abc8-789014bc3e83",
   "metadata": {},
   "outputs": [
    {
     "name": "stdout",
     "output_type": "stream",
     "text": [
      "4.532914058735754\n"
     ]
    }
   ],
   "source": [
    "Σmc = (masa_agua_200ml + masa_ad_arroz) * cw * (0.69) + (masa_calorimetro * cc)  \n",
    "β = resultados.loc['Arroz'].Pendiente\n",
    "J_den = Σmc * β\n",
    "J = J_num/J_den\n",
    "print(J)"
   ]
  },
  {
   "cell_type": "code",
   "execution_count": 182,
   "id": "f59a0577-294b-4b1d-b910-62f53d3dc0c3",
   "metadata": {
    "collapsed": true,
    "jupyter": {
     "outputs_hidden": true
    }
   },
   "outputs": [
    {
     "ename": "NameError",
     "evalue": "name 'mw' is not defined",
     "output_type": "error",
     "traceback": [
      "\u001b[1;31m---------------------------------------------------------------------------\u001b[0m",
      "\u001b[1;31mNameError\u001b[0m                                 Traceback (most recent call last)",
      "Cell \u001b[1;32mIn[182], line 1\u001b[0m\n\u001b[1;32m----> 1\u001b[0m resultados[\u001b[38;5;124m'\u001b[39m\u001b[38;5;124mmc\u001b[39m\u001b[38;5;124m'\u001b[39m] \u001b[38;5;241m=\u001b[39m [\u001b[43mmw\u001b[49m\u001b[38;5;241m*\u001b[39mcw\u001b[38;5;241m+\u001b[39m mc\u001b[38;5;241m*\u001b[39mcc, \n\u001b[0;32m      2\u001b[0m                     mw\u001b[38;5;241m*\u001b[39mcw\u001b[38;5;241m+\u001b[39m mc\u001b[38;5;241m*\u001b[39mcc\u001b[38;5;241m+\u001b[39m m_arroz\u001b[38;5;241m*\u001b[39mc_arroz,\n\u001b[0;32m      3\u001b[0m                     mw\u001b[38;5;241m*\u001b[39mcw\u001b[38;5;241m+\u001b[39m mc\u001b[38;5;241m*\u001b[39mcc\u001b[38;5;241m+\u001b[39m m_azucar\u001b[38;5;241m*\u001b[39mc_azucar,\n\u001b[0;32m      4\u001b[0m                     mw\u001b[38;5;241m*\u001b[39mcw\u001b[38;5;241m+\u001b[39m mc\u001b[38;5;241m*\u001b[39mcc\u001b[38;5;241m+\u001b[39m m_colorante\u001b[38;5;241m*\u001b[39mc_colorante]\n",
      "\u001b[1;31mNameError\u001b[0m: name 'mw' is not defined"
     ]
    }
   ],
   "source": [
    "mw = 150\n",
    "cw = 1\n",
    "mc = 400\n",
    "cc = 0.2\n",
    "m_arroz = \n",
    "m_azucar = \n",
    "m_colorante =\n",
    "c_arroz = 0.5\n",
    "c_azucar = 0.5\n",
    "c_colorante = 0.5\n",
    "\n",
    "resultados['mc'] = [mw*cw+ mc*cc, \n",
    "                    mw*cw+ mc*cc+ m_arroz*c_arroz,\n",
    "                    mw*cw+ mc*cc+ m_azucar*c_azucar,\n",
    "                    mw*cw+ mc*cc+ m_colorante*c_colorante]"
   ]
  },
  {
   "cell_type": "code",
   "execution_count": null,
   "id": "4f78a631-ec0b-40b4-b614-1de218e42d2f",
   "metadata": {},
   "outputs": [],
   "source": []
  }
 ],
 "metadata": {
  "kernelspec": {
   "display_name": "Python 3 (ipykernel)",
   "language": "python",
   "name": "python3"
  },
  "language_info": {
   "codemirror_mode": {
    "name": "ipython",
    "version": 3
   },
   "file_extension": ".py",
   "mimetype": "text/x-python",
   "name": "python",
   "nbconvert_exporter": "python",
   "pygments_lexer": "ipython3",
   "version": "3.12.1"
  }
 },
 "nbformat": 4,
 "nbformat_minor": 5
}
