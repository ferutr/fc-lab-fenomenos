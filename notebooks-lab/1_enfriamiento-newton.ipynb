{
 "cells": [
  {
   "cell_type": "markdown",
   "id": "ce218650-ba58-4c0f-8378-a5f2a71e0a21",
   "metadata": {},
   "source": [
    "# Ley de Enfriamiento de Newton"
   ]
  },
  {
   "cell_type": "code",
   "execution_count": 2,
   "id": "172a51e4-cd60-4a67-9d8e-8aadbe871bec",
   "metadata": {},
   "outputs": [],
   "source": [
    "import pandas as pd \n",
    "import numpy as np\n",
    "import scipy as sc\n",
    "import matplotlib.pyplot as plt"
   ]
  }
 ],
 "metadata": {
  "kernelspec": {
   "display_name": "Python 3 (ipykernel)",
   "language": "python",
   "name": "python3"
  },
  "language_info": {
   "codemirror_mode": {
    "name": "ipython",
    "version": 3
   },
   "file_extension": ".py",
   "mimetype": "text/x-python",
   "name": "python",
   "nbconvert_exporter": "python",
   "pygments_lexer": "ipython3",
   "version": "3.12.1"
  }
 },
 "nbformat": 4,
 "nbformat_minor": 5
}
